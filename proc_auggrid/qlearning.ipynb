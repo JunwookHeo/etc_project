{
 "cells": [
  {
   "cell_type": "code",
   "execution_count": 20,
   "metadata": {},
   "outputs": [],
   "source": [
    "from torch.distributions import Categorical\n",
    "import gym\n",
    "import numpy as np\n",
    "import torch\n",
    "import torch.nn as nn\n",
    "import torch.optim as optim"
   ]
  },
  {
   "cell_type": "code",
   "execution_count": 21,
   "metadata": {},
   "outputs": [],
   "source": [
    "gamma = 0.99\n",
    "\n",
    "class Pi(nn.Module):\n",
    "  def __init__(self, in_dim, out_dim):\n",
    "    super(Pi, self).__init__()\n",
    "    layers = [\n",
    "        nn.Linear(in_dim, 64),\n",
    "        nn.ReLU(),\n",
    "        nn.Linear(64, out_dim),\n",
    "        ]\n",
    "    self.model = nn.Sequential(*layers)\n",
    "    self.onpolicy_reset()\n",
    "    self.train() # set training mode\n",
    "  \n",
    "  def onpolicy_reset(self):\n",
    "    self.log_probs = []\n",
    "    self.rewards = []\n",
    "  \n",
    "  def forward(self, x):\n",
    "    pdparam = self.model(x)\n",
    "    return pdparam\n",
    "    \n",
    "  def act(self, state):\n",
    "    print(state)\n",
    "    x = torch.from_numpy(state) # to tensor\n",
    "    pdparam = self.forward(x) # forward pass\n",
    "    pd = Categorical(logits=pdparam) # probability distribution\n",
    "    action = pd.sample() # pi(a|s) in action via pd\n",
    "    log_prob = pd.log_prob(action) # log_prob of pi(a|s)\n",
    "    self.log_probs.append(log_prob) # store for training\n",
    "    return action.item()\n",
    "  "
   ]
  },
  {
   "cell_type": "code",
   "execution_count": 22,
   "metadata": {},
   "outputs": [],
   "source": [
    "def train(pi, optimizer):\n",
    "  # Inner gradient-ascent loop of REINFORCE algorithm\n",
    "  T = len(pi.rewards)\n",
    "  rets = np.empty(T, dtype=np.float32) # the returns\n",
    "  future_ret = 0.0\n",
    "  # compute the returns efficiently\n",
    "  for t in reversed(range(T)):\n",
    "    future_ret = pi.rewards[t] + gamma * future_ret\n",
    "    rets[t] = future_ret\n",
    "\n",
    "  rets = torch.tensor(rets)\n",
    "  log_probs = torch.stack(pi.log_probs)\n",
    "  loss = - log_probs * rets # gradient term; Negative for maximizing\n",
    "  loss = torch.sum(loss)\n",
    "  optimizer.zero_grad()\n",
    "  loss.backward() # backpropagate, compute gradients\n",
    "  optimizer.step() # gradient-ascent, update the weights\n",
    "  return loss\n"
   ]
  },
  {
   "cell_type": "code",
   "execution_count": 23,
   "metadata": {},
   "outputs": [
    {
     "name": "stdout",
     "output_type": "stream",
     "text": [
      "[-0.03315864 -0.04610041 -0.01759874 -0.03268824]\n"
     ]
    },
    {
     "name": "stderr",
     "output_type": "stream",
     "text": [
      "/Users/jwheo/Projects/etc_project/.venv/lib/python3.10/site-packages/gym/utils/passive_env_checker.py:233: DeprecationWarning: `np.bool8` is a deprecated alias for `np.bool_`.  (Deprecated NumPy 1.24)\n",
      "  if not isinstance(terminated, (bool, np.bool8)):\n"
     ]
    },
    {
     "ename": "ValueError",
     "evalue": "too many values to unpack (expected 4)",
     "output_type": "error",
     "traceback": [
      "\u001b[0;31m---------------------------------------------------------------------------\u001b[0m",
      "\u001b[0;31mValueError\u001b[0m                                Traceback (most recent call last)",
      "Cell \u001b[0;32mIn[23], line 25\u001b[0m\n\u001b[1;32m     20\u001b[0m     pi\u001b[38;5;241m.\u001b[39monpolicy_reset() \u001b[38;5;66;03m# onpolicy: clear memory after training\u001b[39;00m\n\u001b[1;32m     22\u001b[0m     \u001b[38;5;28mprint\u001b[39m(\u001b[38;5;124mf\u001b[39m\u001b[38;5;124m'\u001b[39m\u001b[38;5;124mEpisode \u001b[39m\u001b[38;5;132;01m{\u001b[39;00mepi\u001b[38;5;132;01m}\u001b[39;00m\u001b[38;5;124m, loss: \u001b[39m\u001b[38;5;132;01m{\u001b[39;00mloss\u001b[38;5;132;01m}\u001b[39;00m\u001b[38;5;124m, \u001b[39m\u001b[38;5;130;01m\\\u001b[39;00m\n\u001b[1;32m     23\u001b[0m \u001b[38;5;124m    total_reward: \u001b[39m\u001b[38;5;132;01m{\u001b[39;00mtotal_reward\u001b[38;5;132;01m}\u001b[39;00m\u001b[38;5;124m, solved: \u001b[39m\u001b[38;5;132;01m{\u001b[39;00msolved\u001b[38;5;132;01m}\u001b[39;00m\u001b[38;5;124m'\u001b[39m)\n\u001b[0;32m---> 25\u001b[0m \u001b[43mrun\u001b[49m\u001b[43m(\u001b[49m\u001b[43m)\u001b[49m\n",
      "Cell \u001b[0;32mIn[23], line 12\u001b[0m, in \u001b[0;36mrun\u001b[0;34m()\u001b[0m\n\u001b[1;32m     10\u001b[0m \u001b[38;5;28;01mfor\u001b[39;00m t \u001b[38;5;129;01min\u001b[39;00m \u001b[38;5;28mrange\u001b[39m(\u001b[38;5;241m200\u001b[39m): \u001b[38;5;66;03m# cartpole max timestep is 200\u001b[39;00m\n\u001b[1;32m     11\u001b[0m   action \u001b[38;5;241m=\u001b[39m pi\u001b[38;5;241m.\u001b[39mact(state[\u001b[38;5;241m0\u001b[39m])\n\u001b[0;32m---> 12\u001b[0m   state, reward, done, _ \u001b[38;5;241m=\u001b[39m env\u001b[38;5;241m.\u001b[39mstep(action)\n\u001b[1;32m     13\u001b[0m   pi\u001b[38;5;241m.\u001b[39mrewards\u001b[38;5;241m.\u001b[39mappend(reward)\n\u001b[1;32m     14\u001b[0m   env\u001b[38;5;241m.\u001b[39mrender()\n",
      "\u001b[0;31mValueError\u001b[0m: too many values to unpack (expected 4)"
     ]
    }
   ],
   "source": [
    "def run():\n",
    "  env = gym.make('CartPole-v0')\n",
    "  in_dim = env.observation_space.shape[0] # 4\n",
    "  out_dim = env.action_space.n # 2\n",
    "  pi = Pi(in_dim, out_dim) # policy pi_theta for REINFORCE\n",
    "  optimizer = optim.Adam(pi.parameters(), lr=0.01)\n",
    "\n",
    "  for epi in range(300):\n",
    "    state = env.reset()\n",
    "    for t in range(200): # cartpole max timestep is 200\n",
    "      action = pi.act(state[0])\n",
    "      state, reward, done, _ = env.step(action)\n",
    "      pi.rewards.append(reward)\n",
    "      env.render()\n",
    "      if done:\n",
    "        break\n",
    "    loss = train(pi, optimizer) # train per episode\n",
    "    total_reward = sum(pi.rewards)\n",
    "    solved = total_reward > 195.0\n",
    "    pi.onpolicy_reset() # onpolicy: clear memory after training\n",
    "    \n",
    "    print(f'Episode {epi}, loss: {loss}, \\\n",
    "    total_reward: {total_reward}, solved: {solved}')\n",
    "    \n",
    "run()"
   ]
  }
 ],
 "metadata": {
  "kernelspec": {
   "display_name": ".venv",
   "language": "python",
   "name": "python3"
  },
  "language_info": {
   "codemirror_mode": {
    "name": "ipython",
    "version": 3
   },
   "file_extension": ".py",
   "mimetype": "text/x-python",
   "name": "python",
   "nbconvert_exporter": "python",
   "pygments_lexer": "ipython3",
   "version": "3.10.14"
  }
 },
 "nbformat": 4,
 "nbformat_minor": 2
}
