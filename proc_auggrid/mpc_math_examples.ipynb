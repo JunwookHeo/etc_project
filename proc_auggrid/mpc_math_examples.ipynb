{
 "cells": [
  {
   "cell_type": "code",
   "execution_count": 39,
   "metadata": {},
   "outputs": [],
   "source": [
    "# https://blog.naver.com/rising_n_falling/222361251972?trackingCode=rss\n",
    "# https://dynamics-and-control.readthedocs.io/en/latest/2_Control/7_Multivariable_control/Simple%20MPC.html\n",
    "# https://adityang5.medium.com/model-predictive-control-for-dummies-904c0f7e184d\n"
   ]
  },
  {
   "cell_type": "markdown",
   "metadata": {},
   "source": [
    "MPC Model for battery scheduler\n",
    "\n",
    "Status\n",
    "    x.0 : pvgn generation\n",
    "    x.1 : load consumption\n",
    "    x.2 : grid status\n",
    "    x.3 : battery soc\n",
    "\n",
    "Input\n",
    "    u : amount of charging/discharging"
   ]
  },
  {
   "cell_type": "markdown",
   "metadata": {},
   "source": [
    "Example 1 : f(x) = x^4 - 4x^3 + 4 x^2 + x -4"
   ]
  },
  {
   "cell_type": "code",
   "execution_count": 40,
   "metadata": {},
   "outputs": [],
   "source": [
    "import numpy as np\n",
    "import pandas as pd \n",
    "import matplotlib.pyplot as plt \n",
    "\n",
    "def cost_ex1(x):\n",
    "    print('x', x)\n",
    "    return x**4 - 4*x**3 + 4*x**2 + x -4"
   ]
  },
  {
   "cell_type": "code",
   "execution_count": 41,
   "metadata": {},
   "outputs": [],
   "source": [
    "def plt_opt_ex1(res):\n",
    "    plt.figure(figsize=[4, 3])\n",
    "    x_val = np.linspace(-1.0, 3.0, 100)\n",
    "    plt.plot(x_val, cost_ex1(x_val), '--')\n",
    "    plt.scatter(res.x, cost_ex1(res.x), s=100, c='r', alpha=0.75, marker='o')\n",
    "    plt.show()\n",
    "    "
   ]
  },
  {
   "cell_type": "code",
   "execution_count": 42,
   "metadata": {},
   "outputs": [
    {
     "name": "stdout",
     "output_type": "stream",
     "text": [
      "x [-0.5]\n",
      "x [-0.49999999]\n",
      "x [5.99999982]\n",
      "x [0.14999998]\n",
      "x [0.15]\n",
      "x [0.0003849]\n",
      "x [0.00038491]\n",
      "x [-0.15919818]\n",
      "x [-0.15919817]\n",
      "x [-0.09985377]\n",
      "x [-0.09985376]\n",
      "x [-0.10670738]\n",
      "x [-0.10670737]\n",
      "x [-0.10716402]\n",
      "x [-0.107164]\n",
      "res  message: Optimization terminated successfully\n",
      " success: True\n",
      "  status: 0\n",
      "     fun: -4.056172885152515\n",
      "       x: [-1.072e-01]\n",
      "     nit: 7\n",
      "     jac: [-4.435e-05]\n",
      "    nfev: 15\n",
      "    njev: 7\n",
      "x [-1.         -0.95959596 -0.91919192 -0.87878788 -0.83838384 -0.7979798\n",
      " -0.75757576 -0.71717172 -0.67676768 -0.63636364 -0.5959596  -0.55555556\n",
      " -0.51515152 -0.47474747 -0.43434343 -0.39393939 -0.35353535 -0.31313131\n",
      " -0.27272727 -0.23232323 -0.19191919 -0.15151515 -0.11111111 -0.07070707\n",
      " -0.03030303  0.01010101  0.05050505  0.09090909  0.13131313  0.17171717\n",
      "  0.21212121  0.25252525  0.29292929  0.33333333  0.37373737  0.41414141\n",
      "  0.45454545  0.49494949  0.53535354  0.57575758  0.61616162  0.65656566\n",
      "  0.6969697   0.73737374  0.77777778  0.81818182  0.85858586  0.8989899\n",
      "  0.93939394  0.97979798  1.02020202  1.06060606  1.1010101   1.14141414\n",
      "  1.18181818  1.22222222  1.26262626  1.3030303   1.34343434  1.38383838\n",
      "  1.42424242  1.46464646  1.50505051  1.54545455  1.58585859  1.62626263\n",
      "  1.66666667  1.70707071  1.74747475  1.78787879  1.82828283  1.86868687\n",
      "  1.90909091  1.94949495  1.98989899  2.03030303  2.07070707  2.11111111\n",
      "  2.15151515  2.19191919  2.23232323  2.27272727  2.31313131  2.35353535\n",
      "  2.39393939  2.43434343  2.47474747  2.51515152  2.55555556  2.5959596\n",
      "  2.63636364  2.67676768  2.71717172  2.75757576  2.7979798   2.83838384\n",
      "  2.87878788  2.91919192  2.95959596  3.        ]\n",
      "x [-0.10716402]\n"
     ]
    },
    {
     "data": {
      "image/png": "[encoded data removed]",
      "text/plain": [
       "<Figure size 400x300 with 1 Axes>"
      ]
     },
     "metadata": {},
     "output_type": "display_data"
    }
   ],
   "source": [
    "import scipy\n",
    "\n",
    "x0 = -0.5\n",
    "res = scipy.optimize.minimize(cost_ex1, x0, method='SLSQP')\n",
    "print('res', res)\n",
    "plt_opt_ex1(res)"
   ]
  },
  {
   "cell_type": "markdown",
   "metadata": {},
   "source": [
    "Example of energy consumption patterns\n",
    "    Starting temperature for cooling : 20C\n",
    "    Starting temperature for heating : 15C"
   ]
  },
  {
   "cell_type": "code",
   "execution_count": 43,
   "metadata": {},
   "outputs": [
    {
     "name": "stdout",
     "output_type": "stream",
     "text": [
      "    yyyymm  tout  hout    enrg\n",
      "0   201901  -0.9    46  153161\n",
      "1   201902   1.0    47  114425\n",
      "2   201903   7.1    51   89702\n",
      "3   201904  12.1    51   76987\n",
      "4   201905  19.4    47   41169\n",
      "5   201906  22.5    61   71821\n",
      "6   201907  25.9    69  111422\n",
      "7   201908  27.2    69  104814\n",
      "8   201909  22.6    65   63301\n",
      "9   201910  16.4    62   51085\n",
      "10  201911   7.6    56   59162\n",
      "11  201912   1.4    58  118088\n",
      "12  202001   1.6    56  135882\n",
      "13  202002   2.5    58   99343\n",
      "14  202003   7.7    46   93342\n",
      "15  202004  11.1    50   51873\n",
      "16  202005  18.0    67   49113\n",
      "17  202006  23.9    68   67790\n",
      "18  202007  24.1    77   72170\n",
      "19  202008  26.5    85  121422\n",
      "20  202009  21.4    71   70140\n",
      "21  202010  14.3    61   37515\n",
      "22  202011   8.0    64   73558\n",
      "23  202012  -0.3    58  121422\n",
      "24  202101  -2.4    58  149436\n"
     ]
    }
   ],
   "source": [
    "import numpy as np \n",
    "import pandas as pd\n",
    "\n",
    "fn = 'sample_data_2.csv'\n",
    "data = pd.read_csv(fn)\n",
    "print(data)"
   ]
  },
  {
   "cell_type": "code",
   "execution_count": 44,
   "metadata": {},
   "outputs": [],
   "source": [
    "def model(opt_0, y_var, x_var):\n",
    "    predicted = np.array([])\n",
    "    for i in range(len(y_var)):\n",
    "        if x_var[i] < opt_0[0]:\n",
    "            term = opt_0[2] + opt_0[3] * (opt_0[0] - x_var[i])\n",
    "        elif x_var[i] > opt_0[1]:\n",
    "            term = opt_0[2] + opt_0[4] * (x_var[i] - opt_0[1])\n",
    "        else:\n",
    "            term = opt_0[2]\n",
    "        predicted = np.append(predicted, term)\n",
    "    return predicted"
   ]
  },
  {
   "cell_type": "code",
   "execution_count": 45,
   "metadata": {},
   "outputs": [],
   "source": [
    "def cost(opt_0, y_var, x_var):\n",
    "    # print('opt_0', opt_0)\n",
    "    return np.sum((model(opt_0, y_var, x_var) - y_var) **2)"
   ]
  },
  {
   "cell_type": "code",
   "execution_count": 46,
   "metadata": {},
   "outputs": [],
   "source": [
    "def constraint(x):\n",
    "    return x[1]-x[0] - 0.01"
   ]
  },
  {
   "cell_type": "code",
   "execution_count": 47,
   "metadata": {},
   "outputs": [],
   "source": [
    "def plt_opt_ex2(res_, data_):\n",
    "    plt.figure(figsize=[4,3])\n",
    "    xx = np.linspace(data_.tout.min(), data_.tout.max(), 100)\n",
    "    yy = model(res_.x, xx, xx)\n",
    "    plt.plot(xx, yy, 'r--')\n",
    "    plt.scatter(data.tout.values, data.enrg.values, s=100, c='gray')\n",
    "    plt.show()"
   ]
  },
  {
   "cell_type": "code",
   "execution_count": 48,
   "metadata": {},
   "outputs": [
    {
     "name": "stdout",
     "output_type": "stream",
     "text": [
      "Optimization terminated successfully    (Exit mode 0)\n",
      "            Current function value: 3385755946.0919523\n",
      "            Iterations: 23\n",
      "            Function evaluations: 212\n",
      "            Gradient evaluations: 23\n",
      "[1.37355142e+01 2.00287813e+01 4.47219503e+04 6.18536158e+03\n",
      " 9.59866530e+03]\n",
      "3385755946.0919523\n"
     ]
    },
    {
     "data": {
      "image/png": "[encoded data removed]",
      "text/plain": [
       "<Figure size 400x300 with 1 Axes>"
      ]
     },
     "metadata": {},
     "output_type": "display_data"
    }
   ],
   "source": [
    "x0 = [8, 20, 60000, 3000, 5000]\n",
    "tout = data.tout.values \n",
    "enrg = data.enrg.values \n",
    "con = {'type':'ineq', 'fun':constraint}\n",
    "bnds = ((-10, 15), (15, 30), (40000, 80000), (4000, 12000), (4000, 12000))\n",
    "\n",
    "res = scipy.optimize.minimize(cost, x0, args=(enrg, tout), method='SLSQP', options={'disp':True})\n",
    "# res = scipy.optimize.minimize(cost, x0, constraints=con, bounds=bnds, args=(enrg, tout), method='SLSQP', options={'disp':True})\n",
    "print(res.x)\n",
    "print(res.fun)\n",
    "plt_opt_ex2(res, data)"
   ]
  }
 ],
 "metadata": {
  "kernelspec": {
   "display_name": ".venv",
   "language": "python",
   "name": "python3"
  },
  "language_info": {
   "codemirror_mode": {
    "name": "ipython",
    "version": 3
   },
   "file_extension": ".py",
   "mimetype": "text/x-python",
   "name": "python",
   "nbconvert_exporter": "python",
   "pygments_lexer": "ipython3",
   "version": "3.10.14"
  }
 },
 "nbformat": 4,
 "nbformat_minor": 2
}
